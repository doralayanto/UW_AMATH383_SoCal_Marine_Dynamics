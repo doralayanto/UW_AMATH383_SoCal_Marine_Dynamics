{
 "cells": [
  {
   "cell_type": "code",
   "execution_count": 2,
   "id": "1aaf2653-a41c-4d31-9a73-731ddfe6aee5",
   "metadata": {},
   "outputs": [],
   "source": [
    "import doctest\n",
    "import io\n",
    "import pandas as pd\n",
    "import matplotlib.pyplot as plt\n",
    "import seaborn as sns\n",
    "from scipy import stats"
   ]
  },
  {
   "cell_type": "code",
   "execution_count": null,
   "id": "76fa9b8c-ecad-44f2-a82f-aeec69ad81a5",
   "metadata": {},
   "outputs": [],
   "source": [
    "# Read .csv files of kelp data:\n",
    "kelp_c = pd.read_csv(\"kelp_data.csv\")\n",
    "kelp_s = pd.read_csv(\"kelp_data_s.csv\")\n",
    "\n",
    "# Sort them by 'year':\n",
    "kelp_c_sorted = kelp_c.groupby(\"year\").max()\n",
    "kelp_s_sorted = kelp_s.groupby(\"year\").max()\n",
    "\n",
    "# Merge datasets:\n",
    "merged_df = kelp_c_sorted.merge(kelp_s_sorted, left_on = \"year\", right_on = \"year\")\n",
    "\n",
    "# Sum Kelp Area column and delete other extra columns:\n",
    "merged_df['kelp_area_m2'] = merged_df[['kelp_area_m2_x', 'kelp_area_m2_y']].sum(axis=1)\n",
    "merged_df = merged_df.drop(columns=['kelp_area_m2_x', 'kelp_area_m2_y'])\n",
    "\n",
    "df.plot(figsize=(10, 6)\n",
    "# Plot\n",
    "plot = sns.relplot(merged_df, x=\"year\", y=\"kelp_area_m2\")\n",
    "plot.set(title = \"Kelp Cover Over the Years\", xlabel = \"year\", ylabel = \"Kelp Area (m^2)\")"
   ]
  }
 ],
 "metadata": {
  "kernelspec": {
   "display_name": "Python 3 (ipykernel)",
   "language": "python",
   "name": "python3"
  },
  "language_info": {
   "codemirror_mode": {
    "name": "ipython",
    "version": 3
   },
   "file_extension": ".py",
   "mimetype": "text/x-python",
   "name": "python",
   "nbconvert_exporter": "python",
   "pygments_lexer": "ipython3",
   "version": "3.11.9"
  }
 },
 "nbformat": 4,
 "nbformat_minor": 5
}
